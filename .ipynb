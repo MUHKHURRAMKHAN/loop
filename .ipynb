#simple for loop using equence(string)
for letter in 'python':
    print ('current letter:',letter)
 
 
 
#simple for loop using range()
    for i in range(1,6):
        print ("program is fun")
        
#while loop
        count=0
        while count < 5:
            print ("program is fun!")
            count +=1
            
            
            
        
        
